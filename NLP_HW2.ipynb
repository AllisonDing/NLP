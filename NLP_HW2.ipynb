{
  "nbformat": 4,
  "nbformat_minor": 0,
  "metadata": {
    "colab": {
      "provenance": [],
      "authorship_tag": "ABX9TyNcF+b/ntuQD9DV2kvU2yZJ",
      "include_colab_link": true
    },
    "kernelspec": {
      "name": "python3",
      "display_name": "Python 3"
    },
    "language_info": {
      "name": "python"
    }
  },
  "cells": [
    {
      "cell_type": "markdown",
      "metadata": {
        "id": "view-in-github",
        "colab_type": "text"
      },
      "source": [
        "<a href=\"https://colab.research.google.com/github/AllisonDing/NLP/blob/main/NLP_HW2.ipynb\" target=\"_parent\"><img src=\"https://colab.research.google.com/assets/colab-badge.svg\" alt=\"Open In Colab\"/></a>"
      ]
    },
    {
      "cell_type": "code",
      "execution_count": null,
      "metadata": {
        "id": "uTcoPuR3ihNt"
      },
      "outputs": [],
      "source": [
        "import pandas as pd\n",
        "from sklearn.model_selection import train_test_split\n",
        "from sklearn.feature_extraction.text import CountVectorizer, TfidfVectorizer\n",
        "from sklearn.naive_bayes import MultinomialNB\n",
        "from sklearn.metrics import accuracy_score"
      ]
    },
    {
      "cell_type": "code",
      "source": [
        "# Load the data\n",
        "train_data = pd.read_csv(\"imdb_train.csv\")\n",
        "valid_data = pd.read_csv(\"imdb_valid.csv\")\n",
        "test_data = pd.read_csv(\"imdb_test.csv\")"
      ],
      "metadata": {
        "id": "4SjKZeTwoRTz"
      },
      "execution_count": null,
      "outputs": []
    },
    {
      "cell_type": "code",
      "source": [
        "# Split the data into features and target\n",
        "X_train, y_train = train_data.iloc[:, 0], train_data.iloc[:, 1]\n",
        "X_valid, y_valid = valid_data.iloc[:, 0], valid_data.iloc[:, 1]\n",
        "X_test, y_test = test_data.iloc[:, 0], test_data.iloc[:, 1]"
      ],
      "metadata": {
        "id": "NqEyUBWwoTWh"
      },
      "execution_count": null,
      "outputs": []
    },
    {
      "cell_type": "code",
      "source": [
        "# Vectorize the text\n",
        "# You can choose between CountVectorizer or TfidfVectorizer\n",
        "# You may want to try different configurations (e.g., ngram_range) and choose the one with the best performance\n",
        "vectorizer_unigram = CountVectorizer(ngram_range=(1, 1))  # Unigram-only features\n",
        "vectorizer_unigram_bigram = CountVectorizer(ngram_range=(1, 2))  # Unigram plus bigram features\n"
      ],
      "metadata": {
        "id": "n_94f9zlpd6q"
      },
      "execution_count": null,
      "outputs": []
    },
    {
      "cell_type": "code",
      "source": [
        "X_train_unigram = vectorizer_unigram.fit_transform(X_train)\n",
        "X_valid_unigram = vectorizer_unigram.transform(X_valid)\n",
        "X_test_unigram = vectorizer_unigram.transform(X_test)"
      ],
      "metadata": {
        "id": "kin-nzGipkLO"
      },
      "execution_count": null,
      "outputs": []
    },
    {
      "cell_type": "code",
      "source": [
        "X_train_unigram_bigram = vectorizer_unigram_bigram.fit_transform(X_train)\n",
        "X_valid_unigram_bigram = vectorizer_unigram_bigram.transform(X_valid)\n",
        "X_test_unigram_bigram = vectorizer_unigram_bigram.transform(X_test)"
      ],
      "metadata": {
        "id": "UrzcLf7Mpoq3"
      },
      "execution_count": null,
      "outputs": []
    },
    {
      "cell_type": "code",
      "source": [
        "# Train Naive Bayes classifiers\n",
        "nb_unigram = MultinomialNB()\n",
        "nb_unigram_bigram = MultinomialNB()\n",
        "\n",
        "nb_unigram.fit(X_train_unigram, y_train)\n",
        "nb_unigram_bigram.fit(X_train_unigram_bigram, y_train)"
      ],
      "metadata": {
        "colab": {
          "base_uri": "https://localhost:8080/",
          "height": 74
        },
        "id": "JoHXZs0-pvx5",
        "outputId": "47dd680a-01e3-4dc0-b1b4-75dc7bb7fa93"
      },
      "execution_count": null,
      "outputs": [
        {
          "output_type": "execute_result",
          "data": {
            "text/plain": [
              "MultinomialNB()"
            ],
            "text/html": [
              "<style>#sk-container-id-1 {color: black;background-color: white;}#sk-container-id-1 pre{padding: 0;}#sk-container-id-1 div.sk-toggleable {background-color: white;}#sk-container-id-1 label.sk-toggleable__label {cursor: pointer;display: block;width: 100%;margin-bottom: 0;padding: 0.3em;box-sizing: border-box;text-align: center;}#sk-container-id-1 label.sk-toggleable__label-arrow:before {content: \"▸\";float: left;margin-right: 0.25em;color: #696969;}#sk-container-id-1 label.sk-toggleable__label-arrow:hover:before {color: black;}#sk-container-id-1 div.sk-estimator:hover label.sk-toggleable__label-arrow:before {color: black;}#sk-container-id-1 div.sk-toggleable__content {max-height: 0;max-width: 0;overflow: hidden;text-align: left;background-color: #f0f8ff;}#sk-container-id-1 div.sk-toggleable__content pre {margin: 0.2em;color: black;border-radius: 0.25em;background-color: #f0f8ff;}#sk-container-id-1 input.sk-toggleable__control:checked~div.sk-toggleable__content {max-height: 200px;max-width: 100%;overflow: auto;}#sk-container-id-1 input.sk-toggleable__control:checked~label.sk-toggleable__label-arrow:before {content: \"▾\";}#sk-container-id-1 div.sk-estimator input.sk-toggleable__control:checked~label.sk-toggleable__label {background-color: #d4ebff;}#sk-container-id-1 div.sk-label input.sk-toggleable__control:checked~label.sk-toggleable__label {background-color: #d4ebff;}#sk-container-id-1 input.sk-hidden--visually {border: 0;clip: rect(1px 1px 1px 1px);clip: rect(1px, 1px, 1px, 1px);height: 1px;margin: -1px;overflow: hidden;padding: 0;position: absolute;width: 1px;}#sk-container-id-1 div.sk-estimator {font-family: monospace;background-color: #f0f8ff;border: 1px dotted black;border-radius: 0.25em;box-sizing: border-box;margin-bottom: 0.5em;}#sk-container-id-1 div.sk-estimator:hover {background-color: #d4ebff;}#sk-container-id-1 div.sk-parallel-item::after {content: \"\";width: 100%;border-bottom: 1px solid gray;flex-grow: 1;}#sk-container-id-1 div.sk-label:hover label.sk-toggleable__label {background-color: #d4ebff;}#sk-container-id-1 div.sk-serial::before {content: \"\";position: absolute;border-left: 1px solid gray;box-sizing: border-box;top: 0;bottom: 0;left: 50%;z-index: 0;}#sk-container-id-1 div.sk-serial {display: flex;flex-direction: column;align-items: center;background-color: white;padding-right: 0.2em;padding-left: 0.2em;position: relative;}#sk-container-id-1 div.sk-item {position: relative;z-index: 1;}#sk-container-id-1 div.sk-parallel {display: flex;align-items: stretch;justify-content: center;background-color: white;position: relative;}#sk-container-id-1 div.sk-item::before, #sk-container-id-1 div.sk-parallel-item::before {content: \"\";position: absolute;border-left: 1px solid gray;box-sizing: border-box;top: 0;bottom: 0;left: 50%;z-index: -1;}#sk-container-id-1 div.sk-parallel-item {display: flex;flex-direction: column;z-index: 1;position: relative;background-color: white;}#sk-container-id-1 div.sk-parallel-item:first-child::after {align-self: flex-end;width: 50%;}#sk-container-id-1 div.sk-parallel-item:last-child::after {align-self: flex-start;width: 50%;}#sk-container-id-1 div.sk-parallel-item:only-child::after {width: 0;}#sk-container-id-1 div.sk-dashed-wrapped {border: 1px dashed gray;margin: 0 0.4em 0.5em 0.4em;box-sizing: border-box;padding-bottom: 0.4em;background-color: white;}#sk-container-id-1 div.sk-label label {font-family: monospace;font-weight: bold;display: inline-block;line-height: 1.2em;}#sk-container-id-1 div.sk-label-container {text-align: center;}#sk-container-id-1 div.sk-container {/* jupyter's `normalize.less` sets `[hidden] { display: none; }` but bootstrap.min.css set `[hidden] { display: none !important; }` so we also need the `!important` here to be able to override the default hidden behavior on the sphinx rendered scikit-learn.org. See: https://github.com/scikit-learn/scikit-learn/issues/21755 */display: inline-block !important;position: relative;}#sk-container-id-1 div.sk-text-repr-fallback {display: none;}</style><div id=\"sk-container-id-1\" class=\"sk-top-container\"><div class=\"sk-text-repr-fallback\"><pre>MultinomialNB()</pre><b>In a Jupyter environment, please rerun this cell to show the HTML representation or trust the notebook. <br />On GitHub, the HTML representation is unable to render, please try loading this page with nbviewer.org.</b></div><div class=\"sk-container\" hidden><div class=\"sk-item\"><div class=\"sk-estimator sk-toggleable\"><input class=\"sk-toggleable__control sk-hidden--visually\" id=\"sk-estimator-id-1\" type=\"checkbox\" checked><label for=\"sk-estimator-id-1\" class=\"sk-toggleable__label sk-toggleable__label-arrow\">MultinomialNB</label><div class=\"sk-toggleable__content\"><pre>MultinomialNB()</pre></div></div></div></div></div>"
            ]
          },
          "metadata": {},
          "execution_count": 7
        }
      ]
    },
    {
      "cell_type": "code",
      "source": [
        "# Evaluate on validation set\n",
        "y_pred_valid_unigram = nb_unigram.predict(X_valid_unigram)\n",
        "accuracy_valid_unigram = accuracy_score(y_valid, y_pred_valid_unigram)\n",
        "\n",
        "y_pred_valid_unigram_bigram = nb_unigram_bigram.predict(X_valid_unigram_bigram)\n",
        "accuracy_valid_unigram_bigram = accuracy_score(y_valid, y_pred_valid_unigram_bigram)\n",
        "\n",
        "print(\"Accuracy on validation set (Unigram-only):\", accuracy_valid_unigram)\n",
        "print(\"Accuracy on validation set (Unigram + Bigram):\", accuracy_valid_unigram_bigram)"
      ],
      "metadata": {
        "colab": {
          "base_uri": "https://localhost:8080/"
        },
        "id": "dPfEWUGvp_6x",
        "outputId": "56ea71d9-e76d-435d-ab5a-87d992a9c372"
      },
      "execution_count": null,
      "outputs": [
        {
          "output_type": "stream",
          "name": "stdout",
          "text": [
            "Accuracy on validation set (Unigram-only): 0.8448\n",
            "Accuracy on validation set (Unigram + Bigram): 0.8786\n"
          ]
        }
      ]
    },
    {
      "cell_type": "code",
      "source": [
        "# Choose the best model based on validation performance\n",
        "best_model = nb_unigram_bigram"
      ],
      "metadata": {
        "id": "egY_9l1DqPRf"
      },
      "execution_count": null,
      "outputs": []
    },
    {
      "cell_type": "code",
      "source": [
        "# Evaluate the chosen model on the test set\n",
        "y_pred_test = best_model.predict(X_test_unigram_bigram)\n",
        "accuracy_test = accuracy_score(y_test, y_pred_test)\n",
        "print(\"Accuracy on test set:\", accuracy_test)"
      ],
      "metadata": {
        "colab": {
          "base_uri": "https://localhost:8080/"
        },
        "id": "KMg9zbCQqZOM",
        "outputId": "5c295649-dc9b-4fab-a66c-e73b10f0f386"
      },
      "execution_count": null,
      "outputs": [
        {
          "output_type": "stream",
          "name": "stdout",
          "text": [
            "Accuracy on test set: 0.887\n"
          ]
        }
      ]
    },
    {
      "cell_type": "code",
      "source": [
        "# Access feature log probabilities for unigram + bigram model\n",
        "feature_log_prob_unigram_bigram = nb_unigram_bigram.feature_log_prob_\n",
        "\n",
        "# Print the shape of the feature log probabilities arrays\n",
        "print(\"Shape of feature log probabilities for unigram + bigram model:\", feature_log_prob_unigram_bigram.shape)\n",
        "\n",
        "# Assuming binary classification (negative and positive sentiments)\n",
        "# For each class (negative and positive), get the top-10 most predictive features\n",
        "top_10_negative_features_unigram_bigram = feature_log_prob_unigram_bigram[0].argsort()[:10]\n",
        "top_10_positive_features_unigram_bigram = feature_log_prob_unigram_bigram[1].argsort()[:10]\n",
        "\n",
        "# Print the top-10 most predictive features\n",
        "print(\"Top-10 most predictive features for unigram + bigram model (negative class):\", top_10_negative_features_unigram_bigram)\n",
        "print(\"Top-10 most predictive features for unigram + bigram model (positive class):\", top_10_positive_features_unigram_bigram)"
      ],
      "metadata": {
        "colab": {
          "base_uri": "https://localhost:8080/"
        },
        "id": "S2PrBf2iqfwb",
        "outputId": "ffae7021-5e1f-4ddd-b2fe-f04182f7b05f"
      },
      "execution_count": null,
      "outputs": [
        {
          "output_type": "stream",
          "name": "stdout",
          "text": [
            "Shape of feature log probabilities for unigram + bigram model: (2, 2110706)\n",
            "Top-10 most predictive features for unigram + bigram model (negative class): [1055352  756006  756007  756008  756009 1575120 1575119 1575118 1575117\n",
            " 1575116]\n",
            "Top-10 most predictive features for unigram + bigram model (positive class): [2110705  723077  723078  723079 1561174 1561173  723084  723085  723086\n",
            "  723087]\n"
          ]
        }
      ]
    },
    {
      "cell_type": "code",
      "source": [
        "# Get the feature names from the vectorizer\n",
        "feature_names_unigram_bigram = vectorizer_unigram_bigram.get_feature_names_out()\n",
        "\n",
        "# Retrieve the exact feature names for the top-10 most predictive features\n",
        "top_10_negative_feature_names_unigram_bigram = [feature_names_unigram_bigram[idx] for idx in top_10_negative_features_unigram_bigram]\n",
        "top_10_positive_feature_names_unigram_bigram = [feature_names_unigram_bigram[idx] for idx in top_10_positive_features_unigram_bigram]\n",
        "\n",
        "# Print the exact feature names\n",
        "print(\"Top-10 most predictive features for unigram + bigram model (negative class):\", top_10_negative_feature_names_unigram_bigram)\n",
        "print(\"Top-10 most predictive features for unigram + bigram model (positive class):\", top_10_positive_feature_names_unigram_bigram)"
      ],
      "metadata": {
        "colab": {
          "base_uri": "https://localhost:8080/"
        },
        "id": "OQ26h1NOsIry",
        "outputId": "100fea68-1a2e-429f-d34d-4b1edf036c3e"
      },
      "execution_count": null,
      "outputs": [
        {
          "output_type": "stream",
          "name": "stdout",
          "text": [
            "Top-10 most predictive features for unigram + bigram model (negative class): ['legend oscar', 'ghare', 'ghare bahire', 'gharlie', 'gharlie barkin', 'schmid marine', 'schmid john', 'schmid home', 'schmid had', 'schmid force']\n",
            "Top-10 most predictive features for unigram + bigram model (positive class): ['כרמון is', 'frightworld doesn', 'frightworld is', 'frightworld too', 'sanctimonious egomaniacs', 'sanctimonious do', 'frigid demanding', 'frigid hysteric', 'frigid ice', 'frigid it']\n"
          ]
        }
      ]
    },
    {
      "cell_type": "code",
      "source": [],
      "metadata": {
        "id": "gadFYJX4sYpw"
      },
      "execution_count": null,
      "outputs": []
    }
  ]
}